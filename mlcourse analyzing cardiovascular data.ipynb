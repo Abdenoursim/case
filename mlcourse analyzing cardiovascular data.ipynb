{
 "cells": [
  {
   "cell_type": "markdown",
   "metadata": {
    "_uuid": "945c0f151b28ca53b79e0f7cf5b107af959a3370",
    "papermill": {
     "duration": 0.042388,
     "end_time": "2022-04-12T00:31:00.362679",
     "exception": false,
     "start_time": "2022-04-12T00:31:00.320291",
     "status": "completed"
    },
    "tags": []
   },
   "source": [
    "<center>\n",
    "<img src=\"https://habrastorage.org/webt/ia/m9/zk/iam9zkyzqebnf_okxipihkgjwnw.jpeg\">\n",
    "\n",
    "## [mlcourse.ai](https://mlcourse.ai) - Open Machine Learning Course\n",
    "    \n",
    "Authors: [Ilya Baryshnikov](https://www.linkedin.com/in/baryshnikov-ilya/), [Maxim Uvarov](https://www.linkedin.com/in/maxis42/), and [Yury Kashnitsky](https://yorko.github.io). Translated and edited by [Inga Kaydanova](https://www.linkedin.com/in/inga-kaidanova-a92398b1/), [Egor Polusmak](https://www.linkedin.com/in/egor-polusmak/), [Anastasia Manokhina](https://www.linkedin.com/in/anastasiamanokhina/), and [Yuanyuan Pao](https://www.linkedin.com/in/yuanyuanpao/). This material is subject to the terms and conditions of the [Creative Commons CC BY-NC-SA 4.0](https://creativecommons.org/licenses/by-nc-sa/4.0/) license. Free use is permitted for any non-commercial purpose."
   ]
  },
  {
   "cell_type": "markdown",
   "metadata": {
    "_uuid": "66409c8728e75df39a1390bcb634ae50c6b37652",
    "papermill": {
     "duration": 0.040676,
     "end_time": "2022-04-12T00:31:00.445855",
     "exception": false,
     "start_time": "2022-04-12T00:31:00.405179",
     "status": "completed"
    },
    "tags": []
   },
   "source": [
    "# <center>Assignment #2 (demo)\n",
    "## <center>Analyzing cardiovascular disease data "
   ]
  },
  {
   "cell_type": "markdown",
   "metadata": {
    "_uuid": "5cea59b8adb04c5a07a32c5b70a829319ba0cf2a",
    "papermill": {
     "duration": 0.040685,
     "end_time": "2022-04-12T00:31:00.526825",
     "exception": false,
     "start_time": "2022-04-12T00:31:00.486140",
     "status": "completed"
    },
    "tags": []
   },
   "source": [
    "In this assignment, you will answer questions about a dataset on cardiovascular disease. You do not need to download the data: it is already in the repository. There are some Tasks that will require you to write code. Complete them and then answer the questions in the [form](https://docs.google.com/forms/d/13cE_tSIb6hsScQvvWUJeu1MEHE5L6vnxQUbDYpXsf24). \n",
    "\n",
    "#### Problem\n",
    "\n",
    "Predict the presence or absence of cardiovascular disease (CVD) using the patient examination results.\n",
    "\n",
    "#### Data description\n",
    "\n",
    "There are 3 types of input features:\n",
    "\n",
    "- *Objective*: factual information;\n",
    "- *Examination*: results of medical examination;\n",
    "- *Subjective*: information given by the patient.\n",
    "\n",
    "| Feature | Variable Type | Variable      | Value Type |\n",
    "|---------|--------------|---------------|------------|\n",
    "| Age | Objective Feature | age | int (days) |\n",
    "| Height | Objective Feature | height | int (cm) |\n",
    "| Weight | Objective Feature | weight | float (kg) |\n",
    "| Gender | Objective Feature | gender | categorical code |\n",
    "| Systolic blood pressure | Examination Feature | ap_hi | int |\n",
    "| Diastolic blood pressure | Examination Feature | ap_lo | int |\n",
    "| Cholesterol | Examination Feature | cholesterol | 1: normal, 2: above normal, 3: well above normal |\n",
    "| Glucose | Examination Feature | gluc | 1: normal, 2: above normal, 3: well above normal |\n",
    "| Smoking | Subjective Feature | smoke | binary |\n",
    "| Alcohol intake | Subjective Feature | alco | binary |\n",
    "| Physical activity | Subjective Feature | active | binary |\n",
    "| Presence or absence of cardiovascular disease | Target Variable | cardio | binary |\n",
    "\n",
    "All of the dataset values were collected at the moment of medical examination."
   ]
  },
  {
   "cell_type": "markdown",
   "metadata": {
    "_uuid": "10749a7f9b46749e3a90ff697bc298760045c333",
    "papermill": {
     "duration": 0.039842,
     "end_time": "2022-04-12T00:31:00.607586",
     "exception": false,
     "start_time": "2022-04-12T00:31:00.567744",
     "status": "completed"
    },
    "tags": []
   },
   "source": [
    "Let's get to know our data by performing a preliminary data analysis.\n",
    "\n",
    "#  Part 1. Preliminary data analysis\n",
    "\n",
    "First, we will initialize the environment:"
   ]
  },
  {
   "cell_type": "code",
   "execution_count": 1,
   "metadata": {
    "_uuid": "85426734e890fcf72416f29a953da115c1171080",
    "execution": {
     "iopub.execute_input": "2022-04-12T00:31:00.704015Z",
     "iopub.status.busy": "2022-04-12T00:31:00.701131Z",
     "iopub.status.idle": "2022-04-12T00:31:01.795021Z",
     "shell.execute_reply": "2022-04-12T00:31:01.794293Z",
     "shell.execute_reply.started": "2022-04-12T00:23:13.392028Z"
    },
    "papermill": {
     "duration": 1.145457,
     "end_time": "2022-04-12T00:31:01.795217",
     "exception": false,
     "start_time": "2022-04-12T00:31:00.649760",
     "status": "completed"
    },
    "tags": []
   },
   "outputs": [],
   "source": [
    "# Import all required modules\n",
    "import pandas as pd\n",
    "import numpy as np\n",
    "\n",
    "# Disable warnings\n",
    "import warnings\n",
    "warnings.filterwarnings(\"ignore\")\n",
    "\n",
    "# Import plotting modules\n",
    "import seaborn as sns\n",
    "sns.set()\n",
    "import matplotlib\n",
    "import matplotlib.pyplot as plt\n",
    "import matplotlib.ticker\n",
    "%matplotlib inline"
   ]
  },
  {
   "cell_type": "markdown",
   "metadata": {
    "_uuid": "cbcf821e4bea8a7f7fb1ee4a9bf285b6c4b588ee",
    "papermill": {
     "duration": 0.040628,
     "end_time": "2022-04-12T00:31:01.876495",
     "exception": false,
     "start_time": "2022-04-12T00:31:01.835867",
     "status": "completed"
    },
    "tags": []
   },
   "source": [
    "You will use the `seaborn` library for visual analysis, so let's set that up too:"
   ]
  },
  {
   "cell_type": "code",
   "execution_count": 2,
   "metadata": {
    "_uuid": "b33601a0cadc2fb2d92f211c31bf99a502f71d48",
    "execution": {
     "iopub.execute_input": "2022-04-12T00:31:01.965724Z",
     "iopub.status.busy": "2022-04-12T00:31:01.964684Z",
     "iopub.status.idle": "2022-04-12T00:31:01.966595Z",
     "shell.execute_reply": "2022-04-12T00:31:01.967202Z",
     "shell.execute_reply.started": "2022-04-11T23:37:38.752401Z"
    },
    "papermill": {
     "duration": 0.049654,
     "end_time": "2022-04-12T00:31:01.967366",
     "exception": false,
     "start_time": "2022-04-12T00:31:01.917712",
     "status": "completed"
    },
    "tags": []
   },
   "outputs": [],
   "source": [
    "# Tune the visual settings for figures in `seaborn`\n",
    "sns.set_context(\n",
    "    \"notebook\", \n",
    "    font_scale=1.5,       \n",
    "    rc={ \n",
    "        \"figure.figsize\": (11, 8), \n",
    "        \"axes.titlesize\": 18 \n",
    "    }\n",
    ")\n",
    "\n",
    "from matplotlib import rcParams\n",
    "rcParams['figure.figsize'] = 11, 8"
   ]
  },
  {
   "cell_type": "markdown",
   "metadata": {
    "_uuid": "89381351e4b95530b355e0e55bc4536c0a813d10",
    "papermill": {
     "duration": 0.040721,
     "end_time": "2022-04-12T00:31:02.048868",
     "exception": false,
     "start_time": "2022-04-12T00:31:02.008147",
     "status": "completed"
    },
    "tags": []
   },
   "source": [
    "To make it simple, we will work only with the training part of the dataset:"
   ]
  },
  {
   "cell_type": "code",
   "execution_count": 3,
   "metadata": {
    "_uuid": "2bd0005e660693a061577ca5244b48ccebf36719",
    "execution": {
     "iopub.execute_input": "2022-04-12T00:31:02.133546Z",
     "iopub.status.busy": "2022-04-12T00:31:02.132562Z",
     "iopub.status.idle": "2022-04-12T00:31:02.326459Z",
     "shell.execute_reply": "2022-04-12T00:31:02.325712Z",
     "shell.execute_reply.started": "2022-04-12T00:23:19.046623Z"
    },
    "papermill": {
     "duration": 0.236878,
     "end_time": "2022-04-12T00:31:02.326624",
     "exception": false,
     "start_time": "2022-04-12T00:31:02.089746",
     "status": "completed"
    },
    "tags": []
   },
   "outputs": [
    {
     "name": "stdout",
     "output_type": "stream",
     "text": [
      "Dataset size:  (70000, 13)\n"
     ]
    },
    {
     "data": {
      "text/html": [
       "<div>\n",
       "<style scoped>\n",
       "    .dataframe tbody tr th:only-of-type {\n",
       "        vertical-align: middle;\n",
       "    }\n",
       "\n",
       "    .dataframe tbody tr th {\n",
       "        vertical-align: top;\n",
       "    }\n",
       "\n",
       "    .dataframe thead th {\n",
       "        text-align: right;\n",
       "    }\n",
       "</style>\n",
       "<table border=\"1\" class=\"dataframe\">\n",
       "  <thead>\n",
       "    <tr style=\"text-align: right;\">\n",
       "      <th></th>\n",
       "      <th>id</th>\n",
       "      <th>age</th>\n",
       "      <th>gender</th>\n",
       "      <th>height</th>\n",
       "      <th>weight</th>\n",
       "      <th>ap_hi</th>\n",
       "      <th>ap_lo</th>\n",
       "      <th>cholesterol</th>\n",
       "      <th>gluc</th>\n",
       "      <th>smoke</th>\n",
       "      <th>alco</th>\n",
       "      <th>active</th>\n",
       "      <th>cardio</th>\n",
       "    </tr>\n",
       "  </thead>\n",
       "  <tbody>\n",
       "    <tr>\n",
       "      <th>0</th>\n",
       "      <td>0</td>\n",
       "      <td>18393</td>\n",
       "      <td>2</td>\n",
       "      <td>168</td>\n",
       "      <td>62.0</td>\n",
       "      <td>110</td>\n",
       "      <td>80</td>\n",
       "      <td>1</td>\n",
       "      <td>1</td>\n",
       "      <td>0</td>\n",
       "      <td>0</td>\n",
       "      <td>1</td>\n",
       "      <td>0</td>\n",
       "    </tr>\n",
       "    <tr>\n",
       "      <th>1</th>\n",
       "      <td>1</td>\n",
       "      <td>20228</td>\n",
       "      <td>1</td>\n",
       "      <td>156</td>\n",
       "      <td>85.0</td>\n",
       "      <td>140</td>\n",
       "      <td>90</td>\n",
       "      <td>3</td>\n",
       "      <td>1</td>\n",
       "      <td>0</td>\n",
       "      <td>0</td>\n",
       "      <td>1</td>\n",
       "      <td>1</td>\n",
       "    </tr>\n",
       "    <tr>\n",
       "      <th>2</th>\n",
       "      <td>2</td>\n",
       "      <td>18857</td>\n",
       "      <td>1</td>\n",
       "      <td>165</td>\n",
       "      <td>64.0</td>\n",
       "      <td>130</td>\n",
       "      <td>70</td>\n",
       "      <td>3</td>\n",
       "      <td>1</td>\n",
       "      <td>0</td>\n",
       "      <td>0</td>\n",
       "      <td>0</td>\n",
       "      <td>1</td>\n",
       "    </tr>\n",
       "    <tr>\n",
       "      <th>3</th>\n",
       "      <td>3</td>\n",
       "      <td>17623</td>\n",
       "      <td>2</td>\n",
       "      <td>169</td>\n",
       "      <td>82.0</td>\n",
       "      <td>150</td>\n",
       "      <td>100</td>\n",
       "      <td>1</td>\n",
       "      <td>1</td>\n",
       "      <td>0</td>\n",
       "      <td>0</td>\n",
       "      <td>1</td>\n",
       "      <td>1</td>\n",
       "    </tr>\n",
       "    <tr>\n",
       "      <th>4</th>\n",
       "      <td>4</td>\n",
       "      <td>17474</td>\n",
       "      <td>1</td>\n",
       "      <td>156</td>\n",
       "      <td>56.0</td>\n",
       "      <td>100</td>\n",
       "      <td>60</td>\n",
       "      <td>1</td>\n",
       "      <td>1</td>\n",
       "      <td>0</td>\n",
       "      <td>0</td>\n",
       "      <td>0</td>\n",
       "      <td>0</td>\n",
       "    </tr>\n",
       "  </tbody>\n",
       "</table>\n",
       "</div>"
      ],
      "text/plain": [
       "   id    age  gender  height  weight  ap_hi  ap_lo  cholesterol  gluc  smoke  \\\n",
       "0   0  18393       2     168    62.0    110     80            1     1      0   \n",
       "1   1  20228       1     156    85.0    140     90            3     1      0   \n",
       "2   2  18857       1     165    64.0    130     70            3     1      0   \n",
       "3   3  17623       2     169    82.0    150    100            1     1      0   \n",
       "4   4  17474       1     156    56.0    100     60            1     1      0   \n",
       "\n",
       "   alco  active  cardio  \n",
       "0     0       1       0  \n",
       "1     0       1       1  \n",
       "2     0       0       1  \n",
       "3     0       1       1  \n",
       "4     0       0       0  "
      ]
     },
     "execution_count": 3,
     "metadata": {},
     "output_type": "execute_result"
    }
   ],
   "source": [
    "df = pd.read_csv('../input/mlbootcamp5_train.csv')\n",
    "print('Dataset size: ', df.shape)\n",
    "df.head()"
   ]
  },
  {
   "cell_type": "markdown",
   "metadata": {
    "_uuid": "636bf459023fbc1d1f1b73863c5246397dc26e6d",
    "papermill": {
     "duration": 0.04229,
     "end_time": "2022-04-12T00:31:02.411453",
     "exception": false,
     "start_time": "2022-04-12T00:31:02.369163",
     "status": "completed"
    },
    "tags": []
   },
   "source": [
    "It would be instructive to peek into the values of our variables.\n",
    " \n",
    "Let's convert the data into *long* format and depict the value counts of the categorical features using [`factorplot()`](https://seaborn.pydata.org/generated/seaborn.factorplot.html)."
   ]
  },
  {
   "cell_type": "code",
   "execution_count": 4,
   "metadata": {
    "_uuid": "334ad6a83e7bb58f2c65ec512bfc401a0948c17a",
    "execution": {
     "iopub.execute_input": "2022-04-12T00:31:02.507141Z",
     "iopub.status.busy": "2022-04-12T00:31:02.506184Z",
     "iopub.status.idle": "2022-04-12T00:31:03.293527Z",
     "shell.execute_reply": "2022-04-12T00:31:03.294033Z",
     "shell.execute_reply.started": "2022-04-11T23:37:39.001481Z"
    },
    "papermill": {
     "duration": 0.840337,
     "end_time": "2022-04-12T00:31:03.294212",
     "exception": false,
     "start_time": "2022-04-12T00:31:02.453875",
     "status": "completed"
    },
    "tags": []
   },
   "outputs": [
    {
     "data": {
      "image/png": "[encoded data removed]",
      "text/plain": [
       "<Figure size 933.9x864 with 1 Axes>"
      ]
     },
     "metadata": {
      "needs_background": "light"
     },
     "output_type": "display_data"
    }
   ],
   "source": [
    "df_uniques = pd.melt(frame=df, value_vars=['gender','cholesterol', \n",
    "                                           'gluc', 'smoke', 'alco', \n",
    "                                           'active', 'cardio'])\n",
    "df_uniques = pd.DataFrame(df_uniques.groupby(['variable', \n",
    "                                              'value'])['value'].count()) \\\n",
    "    .sort_index(level=[0, 1]) \\\n",
    "    .rename(columns={'value': 'count'}) \\\n",
    "    .reset_index()\n",
    "\n",
    "sns.factorplot(x='variable', y='count', hue='value', \n",
    "               data=df_uniques, kind='bar', size=12);"
   ]
  },
  {
   "cell_type": "code",
   "execution_count": 5,
   "metadata": {
    "execution": {
     "iopub.execute_input": "2022-04-12T00:31:03.385593Z",
     "iopub.status.busy": "2022-04-12T00:31:03.384477Z",
     "iopub.status.idle": "2022-04-12T00:31:03.483322Z",
     "shell.execute_reply": "2022-04-12T00:31:03.482717Z",
     "shell.execute_reply.started": "2022-04-11T23:37:39.784536Z"
    },
    "papermill": {
     "duration": 0.146382,
     "end_time": "2022-04-12T00:31:03.483470",
     "exception": false,
     "start_time": "2022-04-12T00:31:03.337088",
     "status": "completed"
    },
    "tags": []
   },
   "outputs": [
    {
     "data": {
      "text/html": [
       "<div>\n",
       "<style scoped>\n",
       "    .dataframe tbody tr th:only-of-type {\n",
       "        vertical-align: middle;\n",
       "    }\n",
       "\n",
       "    .dataframe tbody tr th {\n",
       "        vertical-align: top;\n",
       "    }\n",
       "\n",
       "    .dataframe thead th {\n",
       "        text-align: right;\n",
       "    }\n",
       "</style>\n",
       "<table border=\"1\" class=\"dataframe\">\n",
       "  <thead>\n",
       "    <tr style=\"text-align: right;\">\n",
       "      <th></th>\n",
       "      <th>variable</th>\n",
       "      <th>value</th>\n",
       "      <th>count</th>\n",
       "    </tr>\n",
       "  </thead>\n",
       "  <tbody>\n",
       "    <tr>\n",
       "      <th>0</th>\n",
       "      <td>active</td>\n",
       "      <td>0</td>\n",
       "      <td>13739</td>\n",
       "    </tr>\n",
       "    <tr>\n",
       "      <th>1</th>\n",
       "      <td>active</td>\n",
       "      <td>1</td>\n",
       "      <td>56261</td>\n",
       "    </tr>\n",
       "    <tr>\n",
       "      <th>2</th>\n",
       "      <td>alco</td>\n",
       "      <td>0</td>\n",
       "      <td>66236</td>\n",
       "    </tr>\n",
       "    <tr>\n",
       "      <th>3</th>\n",
       "      <td>alco</td>\n",
       "      <td>1</td>\n",
       "      <td>3764</td>\n",
       "    </tr>\n",
       "    <tr>\n",
       "      <th>4</th>\n",
       "      <td>cardio</td>\n",
       "      <td>0</td>\n",
       "      <td>35021</td>\n",
       "    </tr>\n",
       "    <tr>\n",
       "      <th>5</th>\n",
       "      <td>cardio</td>\n",
       "      <td>1</td>\n",
       "      <td>34979</td>\n",
       "    </tr>\n",
       "    <tr>\n",
       "      <th>6</th>\n",
       "      <td>cholesterol</td>\n",
       "      <td>1</td>\n",
       "      <td>52385</td>\n",
       "    </tr>\n",
       "    <tr>\n",
       "      <th>7</th>\n",
       "      <td>cholesterol</td>\n",
       "      <td>2</td>\n",
       "      <td>9549</td>\n",
       "    </tr>\n",
       "    <tr>\n",
       "      <th>8</th>\n",
       "      <td>cholesterol</td>\n",
       "      <td>3</td>\n",
       "      <td>8066</td>\n",
       "    </tr>\n",
       "    <tr>\n",
       "      <th>9</th>\n",
       "      <td>gender</td>\n",
       "      <td>1</td>\n",
       "      <td>45530</td>\n",
       "    </tr>\n",
       "    <tr>\n",
       "      <th>10</th>\n",
       "      <td>gender</td>\n",
       "      <td>2</td>\n",
       "      <td>24470</td>\n",
       "    </tr>\n",
       "    <tr>\n",
       "      <th>11</th>\n",
       "      <td>gluc</td>\n",
       "      <td>1</td>\n",
       "      <td>59479</td>\n",
       "    </tr>\n",
       "    <tr>\n",
       "      <th>12</th>\n",
       "      <td>gluc</td>\n",
       "      <td>2</td>\n",
       "      <td>5190</td>\n",
       "    </tr>\n",
       "    <tr>\n",
       "      <th>13</th>\n",
       "      <td>gluc</td>\n",
       "      <td>3</td>\n",
       "      <td>5331</td>\n",
       "    </tr>\n",
       "    <tr>\n",
       "      <th>14</th>\n",
       "      <td>smoke</td>\n",
       "      <td>0</td>\n",
       "      <td>63831</td>\n",
       "    </tr>\n",
       "    <tr>\n",
       "      <th>15</th>\n",
       "      <td>smoke</td>\n",
       "      <td>1</td>\n",
       "      <td>6169</td>\n",
       "    </tr>\n",
       "  </tbody>\n",
       "</table>\n",
       "</div>"
      ],
      "text/plain": [
       "       variable  value  count\n",
       "0        active      0  13739\n",
       "1        active      1  56261\n",
       "2          alco      0  66236\n",
       "3          alco      1   3764\n",
       "4        cardio      0  35021\n",
       "5        cardio      1  34979\n",
       "6   cholesterol      1  52385\n",
       "7   cholesterol      2   9549\n",
       "8   cholesterol      3   8066\n",
       "9        gender      1  45530\n",
       "10       gender      2  24470\n",
       "11         gluc      1  59479\n",
       "12         gluc      2   5190\n",
       "13         gluc      3   5331\n",
       "14        smoke      0  63831\n",
       "15        smoke      1   6169"
      ]
     },
     "execution_count": 5,
     "metadata": {},
     "output_type": "execute_result"
    }
   ],
   "source": [
    "df_uniques = pd.melt(frame=df, value_vars=['gender','cholesterol', \n",
    "                                           'gluc', 'smoke', 'alco', \n",
    "                                           'active', 'cardio'])\n",
    "df_uniques = pd.DataFrame(df_uniques.groupby(['variable', \n",
    "                                              'value'])['value'].count()) \\\n",
    "    .sort_index(level=[0, 1]) \\\n",
    "    .rename(columns={'value': 'count'}) \\\n",
    "    .reset_index()\n",
    "df_uniques"
   ]
  },
  {
   "cell_type": "code",
   "execution_count": 6,
   "metadata": {
    "execution": {
     "iopub.execute_input": "2022-04-12T00:31:03.577344Z",
     "iopub.status.busy": "2022-04-12T00:31:03.576711Z",
     "iopub.status.idle": "2022-04-12T00:31:03.670379Z",
     "shell.execute_reply": "2022-04-12T00:31:03.669820Z",
     "shell.execute_reply.started": "2022-04-11T23:37:39.899593Z"
    },
    "papermill": {
     "duration": 0.144033,
     "end_time": "2022-04-12T00:31:03.670522",
     "exception": false,
     "start_time": "2022-04-12T00:31:03.526489",
     "status": "completed"
    },
    "tags": []
   },
   "outputs": [
    {
     "data": {
      "text/html": [
       "<div>\n",
       "<style scoped>\n",
       "    .dataframe tbody tr th:only-of-type {\n",
       "        vertical-align: middle;\n",
       "    }\n",
       "\n",
       "    .dataframe tbody tr th {\n",
       "        vertical-align: top;\n",
       "    }\n",
       "\n",
       "    .dataframe thead th {\n",
       "        text-align: right;\n",
       "    }\n",
       "</style>\n",
       "<table border=\"1\" class=\"dataframe\">\n",
       "  <thead>\n",
       "    <tr style=\"text-align: right;\">\n",
       "      <th></th>\n",
       "      <th>variable</th>\n",
       "      <th>value</th>\n",
       "      <th>count</th>\n",
       "    </tr>\n",
       "  </thead>\n",
       "  <tbody>\n",
       "    <tr>\n",
       "      <th>0</th>\n",
       "      <td>active</td>\n",
       "      <td>0</td>\n",
       "      <td>13739</td>\n",
       "    </tr>\n",
       "    <tr>\n",
       "      <th>1</th>\n",
       "      <td>active</td>\n",
       "      <td>1</td>\n",
       "      <td>56261</td>\n",
       "    </tr>\n",
       "    <tr>\n",
       "      <th>2</th>\n",
       "      <td>alco</td>\n",
       "      <td>0</td>\n",
       "      <td>66236</td>\n",
       "    </tr>\n",
       "    <tr>\n",
       "      <th>3</th>\n",
       "      <td>alco</td>\n",
       "      <td>1</td>\n",
       "      <td>3764</td>\n",
       "    </tr>\n",
       "    <tr>\n",
       "      <th>4</th>\n",
       "      <td>cardio</td>\n",
       "      <td>0</td>\n",
       "      <td>35021</td>\n",
       "    </tr>\n",
       "    <tr>\n",
       "      <th>5</th>\n",
       "      <td>cardio</td>\n",
       "      <td>1</td>\n",
       "      <td>34979</td>\n",
       "    </tr>\n",
       "    <tr>\n",
       "      <th>6</th>\n",
       "      <td>cholesterol</td>\n",
       "      <td>1</td>\n",
       "      <td>52385</td>\n",
       "    </tr>\n",
       "    <tr>\n",
       "      <th>7</th>\n",
       "      <td>cholesterol</td>\n",
       "      <td>2</td>\n",
       "      <td>9549</td>\n",
       "    </tr>\n",
       "    <tr>\n",
       "      <th>8</th>\n",
       "      <td>cholesterol</td>\n",
       "      <td>3</td>\n",
       "      <td>8066</td>\n",
       "    </tr>\n",
       "    <tr>\n",
       "      <th>9</th>\n",
       "      <td>gender</td>\n",
       "      <td>1</td>\n",
       "      <td>45530</td>\n",
       "    </tr>\n",
       "    <tr>\n",
       "      <th>10</th>\n",
       "      <td>gender</td>\n",
       "      <td>2</td>\n",
       "      <td>24470</td>\n",
       "    </tr>\n",
       "    <tr>\n",
       "      <th>11</th>\n",
       "      <td>gluc</td>\n",
       "      <td>1</td>\n",
       "      <td>59479</td>\n",
       "    </tr>\n",
       "    <tr>\n",
       "      <th>12</th>\n",
       "      <td>gluc</td>\n",
       "      <td>2</td>\n",
       "      <td>5190</td>\n",
       "    </tr>\n",
       "    <tr>\n",
       "      <th>13</th>\n",
       "      <td>gluc</td>\n",
       "      <td>3</td>\n",
       "      <td>5331</td>\n",
       "    </tr>\n",
       "    <tr>\n",
       "      <th>14</th>\n",
       "      <td>smoke</td>\n",
       "      <td>0</td>\n",
       "      <td>63831</td>\n",
       "    </tr>\n",
       "    <tr>\n",
       "      <th>15</th>\n",
       "      <td>smoke</td>\n",
       "      <td>1</td>\n",
       "      <td>6169</td>\n",
       "    </tr>\n",
       "  </tbody>\n",
       "</table>\n",
       "</div>"
      ],
      "text/plain": [
       "       variable  value  count\n",
       "0        active      0  13739\n",
       "1        active      1  56261\n",
       "2          alco      0  66236\n",
       "3          alco      1   3764\n",
       "4        cardio      0  35021\n",
       "5        cardio      1  34979\n",
       "6   cholesterol      1  52385\n",
       "7   cholesterol      2   9549\n",
       "8   cholesterol      3   8066\n",
       "9        gender      1  45530\n",
       "10       gender      2  24470\n",
       "11         gluc      1  59479\n",
       "12         gluc      2   5190\n",
       "13         gluc      3   5331\n",
       "14        smoke      0  63831\n",
       "15        smoke      1   6169"
      ]
     },
     "execution_count": 6,
     "metadata": {},
     "output_type": "execute_result"
    }
   ],
   "source": [
    "df_uniques = pd.melt(frame=df, value_vars=['gender','cholesterol', \n",
    "                                           'gluc', 'smoke', 'alco', \n",
    "                                           'active', 'cardio'])\n",
    "df_uniques = pd.DataFrame(df_uniques.groupby(['variable', \n",
    "                                              'value'])['value'].count()) \\\n",
    "    .sort_index(level=[0, 1]) \\\n",
    "    .rename(columns={'value': 'count'}) \\\n",
    "    .reset_index()\n",
    "df_uniques"
   ]
  },
  {
   "cell_type": "markdown",
   "metadata": {
    "_uuid": "cb94ec9ddf78c607cdec5536581b8ec4004ac16b",
    "papermill": {
     "duration": 0.044428,
     "end_time": "2022-04-12T00:31:03.762592",
     "exception": false,
     "start_time": "2022-04-12T00:31:03.718164",
     "status": "completed"
    },
    "tags": []
   },
   "source": [
    "We can see that the target classes are balanced. That's great!\n",
    "\n",
    "Let's split the dataset by target values. Can you already spot the most significant feature by just looking at the plot?"
   ]
  },
  {
   "cell_type": "code",
   "execution_count": 7,
   "metadata": {
    "_uuid": "a712d76f8c11588a9aebd4be6a00f01c53a8d80a",
    "execution": {
     "iopub.execute_input": "2022-04-12T00:31:03.854631Z",
     "iopub.status.busy": "2022-04-12T00:31:03.853657Z",
     "iopub.status.idle": "2022-04-12T00:31:04.909951Z",
     "shell.execute_reply": "2022-04-12T00:31:04.910442Z",
     "shell.execute_reply.started": "2022-04-11T23:37:40.009504Z"
    },
    "papermill": {
     "duration": 1.104251,
     "end_time": "2022-04-12T00:31:04.910615",
     "exception": false,
     "start_time": "2022-04-12T00:31:03.806364",
     "status": "completed"
    },
    "tags": []
   },
   "outputs": [
    {
     "data": {
      "image/png": "[encoded data removed]",
      "text/plain": [
       "<Figure size 1365.9x648 with 2 Axes>"
      ]
     },
     "metadata": {
      "needs_background": "light"
     },
     "output_type": "display_data"
    }
   ],
   "source": [
    "df_uniques = pd.melt(frame=df, value_vars=['gender','cholesterol', \n",
    "                                           'gluc', 'smoke', 'alco', \n",
    "                                           'active'], \n",
    "                     id_vars=['cardio'])\n",
    "df_uniques = pd.DataFrame(df_uniques.groupby(['variable', 'value', \n",
    "                                              'cardio'])['value'].count()) \\\n",
    "    .sort_index(level=[0, 1]) \\\n",
    "    .rename(columns={'value': 'count'}) \\\n",
    "    .reset_index()\n",
    "\n",
    "sns.factorplot(x='variable', y='count', hue='value', \n",
    "               col='cardio', data=df_uniques, kind='bar', size=9);"
   ]
  },
  {
   "cell_type": "code",
   "execution_count": 8,
   "metadata": {
    "execution": {
     "iopub.execute_input": "2022-04-12T00:31:05.005106Z",
     "iopub.status.busy": "2022-04-12T00:31:05.004153Z",
     "iopub.status.idle": "2022-04-12T00:31:05.109370Z",
     "shell.execute_reply": "2022-04-12T00:31:05.111799Z",
     "shell.execute_reply.started": "2022-04-11T23:37:41.180075Z"
    },
    "papermill": {
     "duration": 0.156781,
     "end_time": "2022-04-12T00:31:05.112204",
     "exception": false,
     "start_time": "2022-04-12T00:31:04.955423",
     "status": "completed"
    },
    "tags": []
   },
   "outputs": [
    {
     "data": {
      "text/html": [
       "<div>\n",
       "<style scoped>\n",
       "    .dataframe tbody tr th:only-of-type {\n",
       "        vertical-align: middle;\n",
       "    }\n",
       "\n",
       "    .dataframe tbody tr th {\n",
       "        vertical-align: top;\n",
       "    }\n",
       "\n",
       "    .dataframe thead th {\n",
       "        text-align: right;\n",
       "    }\n",
       "</style>\n",
       "<table border=\"1\" class=\"dataframe\">\n",
       "  <thead>\n",
       "    <tr style=\"text-align: right;\">\n",
       "      <th></th>\n",
       "      <th>variable</th>\n",
       "      <th>value</th>\n",
       "      <th>cardio</th>\n",
       "      <th>count</th>\n",
       "    </tr>\n",
       "  </thead>\n",
       "  <tbody>\n",
       "    <tr>\n",
       "      <th>0</th>\n",
       "      <td>active</td>\n",
       "      <td>0</td>\n",
       "      <td>0</td>\n",
       "      <td>6378</td>\n",
       "    </tr>\n",
       "    <tr>\n",
       "      <th>1</th>\n",
       "      <td>active</td>\n",
       "      <td>0</td>\n",
       "      <td>1</td>\n",
       "      <td>7361</td>\n",
       "    </tr>\n",
       "    <tr>\n",
       "      <th>2</th>\n",
       "      <td>active</td>\n",
       "      <td>1</td>\n",
       "      <td>0</td>\n",
       "      <td>28643</td>\n",
       "    </tr>\n",
       "    <tr>\n",
       "      <th>3</th>\n",
       "      <td>active</td>\n",
       "      <td>1</td>\n",
       "      <td>1</td>\n",
       "      <td>27618</td>\n",
       "    </tr>\n",
       "    <tr>\n",
       "      <th>4</th>\n",
       "      <td>alco</td>\n",
       "      <td>0</td>\n",
       "      <td>0</td>\n",
       "      <td>33080</td>\n",
       "    </tr>\n",
       "    <tr>\n",
       "      <th>5</th>\n",
       "      <td>alco</td>\n",
       "      <td>0</td>\n",
       "      <td>1</td>\n",
       "      <td>33156</td>\n",
       "    </tr>\n",
       "    <tr>\n",
       "      <th>6</th>\n",
       "      <td>alco</td>\n",
       "      <td>1</td>\n",
       "      <td>0</td>\n",
       "      <td>1941</td>\n",
       "    </tr>\n",
       "    <tr>\n",
       "      <th>7</th>\n",
       "      <td>alco</td>\n",
       "      <td>1</td>\n",
       "      <td>1</td>\n",
       "      <td>1823</td>\n",
       "    </tr>\n",
       "    <tr>\n",
       "      <th>8</th>\n",
       "      <td>cholesterol</td>\n",
       "      <td>1</td>\n",
       "      <td>0</td>\n",
       "      <td>29330</td>\n",
       "    </tr>\n",
       "    <tr>\n",
       "      <th>9</th>\n",
       "      <td>cholesterol</td>\n",
       "      <td>1</td>\n",
       "      <td>1</td>\n",
       "      <td>23055</td>\n",
       "    </tr>\n",
       "    <tr>\n",
       "      <th>10</th>\n",
       "      <td>cholesterol</td>\n",
       "      <td>2</td>\n",
       "      <td>0</td>\n",
       "      <td>3799</td>\n",
       "    </tr>\n",
       "    <tr>\n",
       "      <th>11</th>\n",
       "      <td>cholesterol</td>\n",
       "      <td>2</td>\n",
       "      <td>1</td>\n",
       "      <td>5750</td>\n",
       "    </tr>\n",
       "    <tr>\n",
       "      <th>12</th>\n",
       "      <td>cholesterol</td>\n",
       "      <td>3</td>\n",
       "      <td>0</td>\n",
       "      <td>1892</td>\n",
       "    </tr>\n",
       "    <tr>\n",
       "      <th>13</th>\n",
       "      <td>cholesterol</td>\n",
       "      <td>3</td>\n",
       "      <td>1</td>\n",
       "      <td>6174</td>\n",
       "    </tr>\n",
       "    <tr>\n",
       "      <th>14</th>\n",
       "      <td>gender</td>\n",
       "      <td>1</td>\n",
       "      <td>0</td>\n",
       "      <td>22914</td>\n",
       "    </tr>\n",
       "    <tr>\n",
       "      <th>15</th>\n",
       "      <td>gender</td>\n",
       "      <td>1</td>\n",
       "      <td>1</td>\n",
       "      <td>22616</td>\n",
       "    </tr>\n",
       "    <tr>\n",
       "      <th>16</th>\n",
       "      <td>gender</td>\n",
       "      <td>2</td>\n",
       "      <td>0</td>\n",
       "      <td>12107</td>\n",
       "    </tr>\n",
       "    <tr>\n",
       "      <th>17</th>\n",
       "      <td>gender</td>\n",
       "      <td>2</td>\n",
       "      <td>1</td>\n",
       "      <td>12363</td>\n",
       "    </tr>\n",
       "    <tr>\n",
       "      <th>18</th>\n",
       "      <td>gluc</td>\n",
       "      <td>1</td>\n",
       "      <td>0</td>\n",
       "      <td>30894</td>\n",
       "    </tr>\n",
       "    <tr>\n",
       "      <th>19</th>\n",
       "      <td>gluc</td>\n",
       "      <td>1</td>\n",
       "      <td>1</td>\n",
       "      <td>28585</td>\n",
       "    </tr>\n",
       "    <tr>\n",
       "      <th>20</th>\n",
       "      <td>gluc</td>\n",
       "      <td>2</td>\n",
       "      <td>0</td>\n",
       "      <td>2112</td>\n",
       "    </tr>\n",
       "    <tr>\n",
       "      <th>21</th>\n",
       "      <td>gluc</td>\n",
       "      <td>2</td>\n",
       "      <td>1</td>\n",
       "      <td>3078</td>\n",
       "    </tr>\n",
       "    <tr>\n",
       "      <th>22</th>\n",
       "      <td>gluc</td>\n",
       "      <td>3</td>\n",
       "      <td>0</td>\n",
       "      <td>2015</td>\n",
       "    </tr>\n",
       "    <tr>\n",
       "      <th>23</th>\n",
       "      <td>gluc</td>\n",
       "      <td>3</td>\n",
       "      <td>1</td>\n",
       "      <td>3316</td>\n",
       "    </tr>\n",
       "    <tr>\n",
       "      <th>24</th>\n",
       "      <td>smoke</td>\n",
       "      <td>0</td>\n",
       "      <td>0</td>\n",
       "      <td>31781</td>\n",
       "    </tr>\n",
       "    <tr>\n",
       "      <th>25</th>\n",
       "      <td>smoke</td>\n",
       "      <td>0</td>\n",
       "      <td>1</td>\n",
       "      <td>32050</td>\n",
       "    </tr>\n",
       "    <tr>\n",
       "      <th>26</th>\n",
       "      <td>smoke</td>\n",
       "      <td>1</td>\n",
       "      <td>0</td>\n",
       "      <td>3240</td>\n",
       "    </tr>\n",
       "    <tr>\n",
       "      <th>27</th>\n",
       "      <td>smoke</td>\n",
       "      <td>1</td>\n",
       "      <td>1</td>\n",
       "      <td>2929</td>\n",
       "    </tr>\n",
       "  </tbody>\n",
       "</table>\n",
       "</div>"
      ],
      "text/plain": [
       "       variable  value  cardio  count\n",
       "0        active      0       0   6378\n",
       "1        active      0       1   7361\n",
       "2        active      1       0  28643\n",
       "3        active      1       1  27618\n",
       "4          alco      0       0  33080\n",
       "5          alco      0       1  33156\n",
       "6          alco      1       0   1941\n",
       "7          alco      1       1   1823\n",
       "8   cholesterol      1       0  29330\n",
       "9   cholesterol      1       1  23055\n",
       "10  cholesterol      2       0   3799\n",
       "11  cholesterol      2       1   5750\n",
       "12  cholesterol      3       0   1892\n",
       "13  cholesterol      3       1   6174\n",
       "14       gender      1       0  22914\n",
       "15       gender      1       1  22616\n",
       "16       gender      2       0  12107\n",
       "17       gender      2       1  12363\n",
       "18         gluc      1       0  30894\n",
       "19         gluc      1       1  28585\n",
       "20         gluc      2       0   2112\n",
       "21         gluc      2       1   3078\n",
       "22         gluc      3       0   2015\n",
       "23         gluc      3       1   3316\n",
       "24        smoke      0       0  31781\n",
       "25        smoke      0       1  32050\n",
       "26        smoke      1       0   3240\n",
       "27        smoke      1       1   2929"
      ]
     },
     "execution_count": 8,
     "metadata": {},
     "output_type": "execute_result"
    }
   ],
   "source": [
    "df_uniques = pd.melt(frame=df, value_vars=['gender','cholesterol', \n",
    "                                           'gluc', 'smoke', 'alco', \n",
    "                                           'active'], \n",
    "                     id_vars=['cardio'])\n",
    "df_uniques = pd.DataFrame(df_uniques.groupby(['variable', 'value', \n",
    "                                              'cardio'])['value'].count()) \\\n",
    "    .sort_index(level=[0, 1]) \\\n",
    "    .rename(columns={'value': 'count'}) \\\n",
    "    .reset_index() \n",
    "    \n",
    "df_uniques"
   ]
  },
  {
   "cell_type": "markdown",
   "metadata": {
    "_uuid": "4f4fdb7b979c6594b3060a0b80473fabbdf6acd0",
    "papermill": {
     "duration": 0.045993,
     "end_time": "2022-04-12T00:31:05.204264",
     "exception": false,
     "start_time": "2022-04-12T00:31:05.158271",
     "status": "completed"
    },
    "tags": []
   },
   "source": [
    "You can see that the distribution of cholesterol and glucose levels great differs by the value of the target variable. Is this a coincidence?\n",
    "\n",
    "Now, let's calculate some statistics for the feature unique values:"
   ]
  },
  {
   "cell_type": "code",
   "execution_count": 9,
   "metadata": {
    "_uuid": "e9cbba719f93f6b544567638be7332b7385fc715",
    "execution": {
     "iopub.execute_input": "2022-04-12T00:31:05.300564Z",
     "iopub.status.busy": "2022-04-12T00:31:05.299593Z",
     "iopub.status.idle": "2022-04-12T00:31:05.331067Z",
     "shell.execute_reply": "2022-04-12T00:31:05.331817Z",
     "shell.execute_reply.started": "2022-04-11T23:37:41.303264Z"
    },
    "papermill": {
     "duration": 0.081552,
     "end_time": "2022-04-12T00:31:05.332070",
     "exception": false,
     "start_time": "2022-04-12T00:31:05.250518",
     "status": "completed"
    },
    "tags": []
   },
   "outputs": [
    {
     "name": "stdout",
     "output_type": "stream",
     "text": [
      "id\n",
      "70000\n",
      "----------\n",
      "age\n",
      "8076\n",
      "----------\n",
      "gender\n",
      "2 [(1, 45530), (2, 24470)]\n",
      "----------\n",
      "height\n",
      "109\n",
      "----------\n",
      "weight\n",
      "287\n",
      "----------\n",
      "ap_hi\n",
      "153\n",
      "----------\n",
      "ap_lo\n",
      "157\n",
      "----------\n",
      "cholesterol\n",
      "3 [(1, 52385), (2, 9549), (3, 8066)]\n",
      "----------\n",
      "gluc\n",
      "3 [(1, 59479), (2, 5190), (3, 5331)]\n",
      "----------\n",
      "smoke\n",
      "2 [(0, 63831), (1, 6169)]\n",
      "----------\n",
      "alco\n",
      "2 [(0, 66236), (1, 3764)]\n",
      "----------\n",
      "active\n",
      "2 [(0, 13739), (1, 56261)]\n",
      "----------\n",
      "cardio\n",
      "2 [(0, 35021), (1, 34979)]\n",
      "----------\n"
     ]
    }
   ],
   "source": [
    "for c in df.columns:\n",
    "    n = df[c].nunique()\n",
    "    print(c)\n",
    "    if n <= 3:\n",
    "        print(n, sorted(df[c].value_counts().to_dict().items()))\n",
    "    else:\n",
    "        print(n)\n",
    "    print(10 * '-')"
   ]
  },
  {
   "cell_type": "markdown",
   "metadata": {
    "_uuid": "53507160b237077bf8b19fb987b910669c04ba8b",
    "papermill": {
     "duration": 0.047639,
     "end_time": "2022-04-12T00:31:05.427032",
     "exception": false,
     "start_time": "2022-04-12T00:31:05.379393",
     "status": "completed"
    },
    "tags": []
   },
   "source": [
    "In the end, we have:\n",
    "- 5 numerical features (excluding *id*);\n",
    "- 7 categorical features;\n",
    "- 70000 records in total."
   ]
  },
  {
   "cell_type": "markdown",
   "metadata": {
    "_uuid": "5f9dc83567c83c1ab2eeb4b855d3f8460c1a735e",
    "papermill": {
     "duration": 0.045903,
     "end_time": "2022-04-12T00:31:05.519093",
     "exception": false,
     "start_time": "2022-04-12T00:31:05.473190",
     "status": "completed"
    },
    "tags": []
   },
   "source": [
    "## 1.1. Basic observations"
   ]
  },
  {
   "cell_type": "markdown",
   "metadata": {
    "_uuid": "129e6509399146154e8c7e293a2fd11f5d267fa4",
    "papermill": {
     "duration": 0.045876,
     "end_time": "2022-04-12T00:31:05.611154",
     "exception": false,
     "start_time": "2022-04-12T00:31:05.565278",
     "status": "completed"
    },
    "tags": []
   },
   "source": [
    "**Question 1.1. (1 point). How many men and women are present in this dataset? Values of the `gender` feature were not given (whether \"1\" stands for women or for men) – figure this out by looking analyzing height, making the assumption that men are taller on average. **\n",
    "1. 45530 women and 24470 men\n",
    "2. 45530 men and 24470 women\n",
    "3. 45470 women and 24530 men\n",
    "4. 45470 men and 24530 women"
   ]
  },
  {
   "cell_type": "code",
   "execution_count": 10,
   "metadata": {
    "execution": {
     "iopub.execute_input": "2022-04-12T00:31:05.707390Z",
     "iopub.status.busy": "2022-04-12T00:31:05.706383Z",
     "iopub.status.idle": "2022-04-12T00:31:05.730240Z",
     "shell.execute_reply": "2022-04-12T00:31:05.729558Z",
     "shell.execute_reply.started": "2022-04-12T00:28:57.832411Z"
    },
    "papermill": {
     "duration": 0.072983,
     "end_time": "2022-04-12T00:31:05.730381",
     "exception": false,
     "start_time": "2022-04-12T00:31:05.657398",
     "status": "completed"
    },
    "tags": []
   },
   "outputs": [
    {
     "data": {
      "text/plain": [
       "Women    45530\n",
       "men      24470\n",
       "Name: gender, dtype: int64"
      ]
     },
     "execution_count": 10,
     "metadata": {},
     "output_type": "execute_result"
    }
   ],
   "source": [
    "#gen = df.groupby(['gender'])          \n",
    "#gen.replace([1,2],['Women','men']).value_counts()\n",
    "df['gender'].replace([1,2],['Women','men'], inplace = True)\n",
    "df['gender'].value_counts()"
   ]
  },
  {
   "cell_type": "markdown",
   "metadata": {
    "_uuid": "d6b36cf91cd63fcce92c4177475820bd6b94ec89",
    "papermill": {
     "duration": 0.046967,
     "end_time": "2022-04-12T00:31:05.823957",
     "exception": false,
     "start_time": "2022-04-12T00:31:05.776990",
     "status": "completed"
    },
    "tags": []
   },
   "source": [
    "**.) Which gender more often reports consuming alcohol - men or women?**\n",
    "1. women\n",
    "2. men"
   ]
  },
  {
   "cell_type": "code",
   "execution_count": 11,
   "metadata": {
    "execution": {
     "iopub.execute_input": "2022-04-12T00:31:05.925072Z",
     "iopub.status.busy": "2022-04-12T00:31:05.924087Z",
     "iopub.status.idle": "2022-04-12T00:31:05.944867Z",
     "shell.execute_reply": "2022-04-12T00:31:05.944338Z",
     "shell.execute_reply.started": "2022-04-12T00:30:03.615182Z"
    },
    "papermill": {
     "duration": 0.073859,
     "end_time": "2022-04-12T00:31:05.945012",
     "exception": false,
     "start_time": "2022-04-12T00:31:05.871153",
     "status": "completed"
    },
    "tags": []
   },
   "outputs": [
    {
     "data": {
      "text/plain": [
       "alco  gender\n",
       "0     Women     44369\n",
       "      men       21867\n",
       "1     men        2603\n",
       "      Women      1161\n",
       "Name: gender, dtype: int64"
      ]
     },
     "execution_count": 11,
     "metadata": {},
     "output_type": "execute_result"
    }
   ],
   "source": [
    "\n",
    "al = df.groupby(['alco'])['gender'].value_counts() \n",
    "al    "
   ]
  },
  {
   "cell_type": "markdown",
   "metadata": {
    "_uuid": "8b98389e26edd01374d6217d8dd1e2d5ffff9d1c",
    "papermill": {
     "duration": 0.048208,
     "end_time": "2022-04-12T00:31:06.040487",
     "exception": false,
     "start_time": "2022-04-12T00:31:05.992279",
     "status": "completed"
    },
    "tags": []
   },
   "source": [
    "**.) What is the difference between the percentages of smokers among men and women ?**\n"
   ]
  },
  {
   "cell_type": "code",
   "execution_count": 12,
   "metadata": {
    "execution": {
     "iopub.execute_input": "2022-04-12T00:31:06.143987Z",
     "iopub.status.busy": "2022-04-12T00:31:06.143329Z",
     "iopub.status.idle": "2022-04-12T00:31:06.158796Z",
     "shell.execute_reply": "2022-04-12T00:31:06.159236Z",
     "shell.execute_reply.started": "2022-04-12T00:29:48.655481Z"
    },
    "papermill": {
     "duration": 0.070419,
     "end_time": "2022-04-12T00:31:06.159414",
     "exception": false,
     "start_time": "2022-04-12T00:31:06.088995",
     "status": "completed"
    },
    "tags": []
   },
   "outputs": [
    {
     "data": {
      "text/plain": [
       "gender  smoke\n",
       "Women   0        98.0%\n",
       "        1         2.0%\n",
       "men     0        78.0%\n",
       "        1        22.0%\n",
       "Name: smoke, dtype: object"
      ]
     },
     "execution_count": 12,
     "metadata": {},
     "output_type": "execute_result"
    }
   ],
   "source": [
    "\n",
    "smoke = df.groupby(['gender'])\n",
    "smoke = round(smoke['smoke'].value_counts(normalize = True) * 100,0).astype(str) + '%'\n",
    "smoke "
   ]
  },
  {
   "cell_type": "markdown",
   "metadata": {
    "_uuid": "c92554c5fe98a07b298cec98eaa2622a3bedbeeb",
    "papermill": {
     "duration": 0.047424,
     "end_time": "2022-04-12T00:31:06.254952",
     "exception": false,
     "start_time": "2022-04-12T00:31:06.207528",
     "status": "completed"
    },
    "tags": []
   },
   "source": [
    "**.) What is the difference between median values of age for smokers and non-smokers (in months, rounded)? .**\n"
   ]
  },
  {
   "cell_type": "code",
   "execution_count": 13,
   "metadata": {
    "execution": {
     "iopub.execute_input": "2022-04-12T00:31:06.357730Z",
     "iopub.status.busy": "2022-04-12T00:31:06.357014Z",
     "iopub.status.idle": "2022-04-12T00:31:06.366043Z",
     "shell.execute_reply": "2022-04-12T00:31:06.366559Z",
     "shell.execute_reply.started": "2022-04-12T00:29:42.600176Z"
    },
    "papermill": {
     "duration": 0.063644,
     "end_time": "2022-04-12T00:31:06.366740",
     "exception": false,
     "start_time": "2022-04-12T00:31:06.303096",
     "status": "completed"
    },
    "tags": []
   },
   "outputs": [
    {
     "data": {
      "text/plain": [
       "20.0"
      ]
     },
     "execution_count": 13,
     "metadata": {},
     "output_type": "execute_result"
    }
   ],
   "source": [
    "df['age_years'] = (df['age']).astype(int) \n",
    "round((df.loc[df['smoke'] == 0,'age_years'].median() - df.loc[df['smoke'] == 1,'age_years'].median()) / 365.25 * 12,0)"
   ]
  },
  {
   "cell_type": "markdown",
   "metadata": {
    "_uuid": "ac5d59876eb97782eab5f038aa8b2335e014d9bf",
    "papermill": {
     "duration": 0.048896,
     "end_time": "2022-04-12T00:31:06.464346",
     "exception": false,
     "start_time": "2022-04-12T00:31:06.415450",
     "status": "completed"
    },
    "tags": []
   },
   "source": [
    "## 1.2. Risk maps\n",
    "### Task:"
   ]
  },
  {
   "cell_type": "markdown",
   "metadata": {
    "_uuid": "9efc6fd8ff26ea2ddf95e7e0b70ef3b802f83af5",
    "papermill": {
     "duration": 0.048651,
     "end_time": "2022-04-12T00:31:06.563372",
     "exception": false,
     "start_time": "2022-04-12T00:31:06.514721",
     "status": "completed"
    },
    "tags": []
   },
   "source": [
    "On the website for the European Society of Cardiology, a [SCORE scale](https://www.escardio.org/Education/Practice-Tools/CVD-prevention-toolbox/SCORE-Risk-Charts) is provided. It is used for calculating the risk of death from a cardiovascular decease in the next 10 years. Here it is:\n",
    "<img src=https://habrastorage.org/webt/ik/gx/hr/ikgxhr3w1vzqihgitgrbdorfb14.png width=30%>\n",
    "\n",
    "Let's take a look at the upper-right rectangle, which shows a subset of smoking men aged from 60 to 65. (It's not obvious, but the values in the figure represent the upper bound).\n",
    "\n",
    "We see the value 9 in the lower-left corner of the rectangle and 47 in the upper-right. This means that, for people in this gender-age group whose systolic pressure is less than 120, the risk of a CVD is estimated to be 5 times lower than for those with the pressure in the interval [160,180).\n",
    "\n",
    "Let's calculate that same ratio using our data.\n",
    "\n",
    "Clarifications:\n",
    "- Calculate ``age_years`` feature – round age to the nearest number of years. For this task, select only the people of age 60 to 64, inclusive.\n",
    "- Cholesterol level categories differ between the figure and our dataset. The conversion for the ``cholesterol`` feature is as follows: 4 mmol/l $\\rightarrow$ 1, 5-7 mmol/l $\\rightarrow$ 2, 8 mmol/l $\\rightarrow$ 3."
   ]
  },
  {
   "cell_type": "markdown",
   "metadata": {
    "_uuid": "e71f8859a7fb8f23a78ac84b861d41c8f1b9e11f",
    "papermill": {
     "duration": 0.048308,
     "end_time": "2022-04-12T00:31:06.659716",
     "exception": false,
     "start_time": "2022-04-12T00:31:06.611408",
     "status": "completed"
    },
    "tags": []
   },
   "source": [
    "**.) Calculate the fraction of the people with CVD for the two segments described above. What is the ratio of these two fractions?**\n",
    "\n",
    "1. 1\n",
    "2. 2\n",
    "3. 3\n",
    "4. 4"
   ]
  },
  {
   "cell_type": "code",
   "execution_count": 14,
   "metadata": {
    "execution": {
     "iopub.execute_input": "2022-04-12T00:31:06.759673Z",
     "iopub.status.busy": "2022-04-12T00:31:06.758687Z",
     "iopub.status.idle": "2022-04-12T00:31:06.780220Z",
     "shell.execute_reply": "2022-04-12T00:31:06.780733Z",
     "shell.execute_reply.started": "2022-04-12T00:23:40.420694Z"
    },
    "papermill": {
     "duration": 0.073241,
     "end_time": "2022-04-12T00:31:06.780906",
     "exception": false,
     "start_time": "2022-04-12T00:31:06.707665",
     "status": "completed"
    },
    "tags": []
   },
   "outputs": [
    {
     "data": {
      "text/html": [
       "<div>\n",
       "<style scoped>\n",
       "    .dataframe tbody tr th:only-of-type {\n",
       "        vertical-align: middle;\n",
       "    }\n",
       "\n",
       "    .dataframe tbody tr th {\n",
       "        vertical-align: top;\n",
       "    }\n",
       "\n",
       "    .dataframe thead th {\n",
       "        text-align: right;\n",
       "    }\n",
       "</style>\n",
       "<table border=\"1\" class=\"dataframe\">\n",
       "  <thead>\n",
       "    <tr style=\"text-align: right;\">\n",
       "      <th></th>\n",
       "      <th>id</th>\n",
       "      <th>age</th>\n",
       "      <th>gender</th>\n",
       "      <th>height</th>\n",
       "      <th>weight</th>\n",
       "      <th>ap_hi</th>\n",
       "      <th>ap_lo</th>\n",
       "      <th>cholesterol</th>\n",
       "      <th>gluc</th>\n",
       "      <th>smoke</th>\n",
       "      <th>alco</th>\n",
       "      <th>active</th>\n",
       "      <th>cardio</th>\n",
       "      <th>age_years</th>\n",
       "    </tr>\n",
       "  </thead>\n",
       "  <tbody>\n",
       "    <tr>\n",
       "      <th>0</th>\n",
       "      <td>0</td>\n",
       "      <td>18393</td>\n",
       "      <td>men</td>\n",
       "      <td>168</td>\n",
       "      <td>62.0</td>\n",
       "      <td>110</td>\n",
       "      <td>80</td>\n",
       "      <td>1</td>\n",
       "      <td>1</td>\n",
       "      <td>0</td>\n",
       "      <td>0</td>\n",
       "      <td>1</td>\n",
       "      <td>0</td>\n",
       "      <td>50</td>\n",
       "    </tr>\n",
       "    <tr>\n",
       "      <th>1</th>\n",
       "      <td>1</td>\n",
       "      <td>20228</td>\n",
       "      <td>Women</td>\n",
       "      <td>156</td>\n",
       "      <td>85.0</td>\n",
       "      <td>140</td>\n",
       "      <td>90</td>\n",
       "      <td>3</td>\n",
       "      <td>1</td>\n",
       "      <td>0</td>\n",
       "      <td>0</td>\n",
       "      <td>1</td>\n",
       "      <td>1</td>\n",
       "      <td>55</td>\n",
       "    </tr>\n",
       "    <tr>\n",
       "      <th>2</th>\n",
       "      <td>2</td>\n",
       "      <td>18857</td>\n",
       "      <td>Women</td>\n",
       "      <td>165</td>\n",
       "      <td>64.0</td>\n",
       "      <td>130</td>\n",
       "      <td>70</td>\n",
       "      <td>3</td>\n",
       "      <td>1</td>\n",
       "      <td>0</td>\n",
       "      <td>0</td>\n",
       "      <td>0</td>\n",
       "      <td>1</td>\n",
       "      <td>52</td>\n",
       "    </tr>\n",
       "    <tr>\n",
       "      <th>3</th>\n",
       "      <td>3</td>\n",
       "      <td>17623</td>\n",
       "      <td>men</td>\n",
       "      <td>169</td>\n",
       "      <td>82.0</td>\n",
       "      <td>150</td>\n",
       "      <td>100</td>\n",
       "      <td>1</td>\n",
       "      <td>1</td>\n",
       "      <td>0</td>\n",
       "      <td>0</td>\n",
       "      <td>1</td>\n",
       "      <td>1</td>\n",
       "      <td>48</td>\n",
       "    </tr>\n",
       "    <tr>\n",
       "      <th>4</th>\n",
       "      <td>4</td>\n",
       "      <td>17474</td>\n",
       "      <td>Women</td>\n",
       "      <td>156</td>\n",
       "      <td>56.0</td>\n",
       "      <td>100</td>\n",
       "      <td>60</td>\n",
       "      <td>1</td>\n",
       "      <td>1</td>\n",
       "      <td>0</td>\n",
       "      <td>0</td>\n",
       "      <td>0</td>\n",
       "      <td>0</td>\n",
       "      <td>48</td>\n",
       "    </tr>\n",
       "    <tr>\n",
       "      <th>...</th>\n",
       "      <td>...</td>\n",
       "      <td>...</td>\n",
       "      <td>...</td>\n",
       "      <td>...</td>\n",
       "      <td>...</td>\n",
       "      <td>...</td>\n",
       "      <td>...</td>\n",
       "      <td>...</td>\n",
       "      <td>...</td>\n",
       "      <td>...</td>\n",
       "      <td>...</td>\n",
       "      <td>...</td>\n",
       "      <td>...</td>\n",
       "      <td>...</td>\n",
       "    </tr>\n",
       "    <tr>\n",
       "      <th>69995</th>\n",
       "      <td>99993</td>\n",
       "      <td>19240</td>\n",
       "      <td>men</td>\n",
       "      <td>168</td>\n",
       "      <td>76.0</td>\n",
       "      <td>120</td>\n",
       "      <td>80</td>\n",
       "      <td>1</td>\n",
       "      <td>1</td>\n",
       "      <td>1</td>\n",
       "      <td>0</td>\n",
       "      <td>1</td>\n",
       "      <td>0</td>\n",
       "      <td>53</td>\n",
       "    </tr>\n",
       "    <tr>\n",
       "      <th>69996</th>\n",
       "      <td>99995</td>\n",
       "      <td>22601</td>\n",
       "      <td>Women</td>\n",
       "      <td>158</td>\n",
       "      <td>126.0</td>\n",
       "      <td>140</td>\n",
       "      <td>90</td>\n",
       "      <td>2</td>\n",
       "      <td>2</td>\n",
       "      <td>0</td>\n",
       "      <td>0</td>\n",
       "      <td>1</td>\n",
       "      <td>1</td>\n",
       "      <td>62</td>\n",
       "    </tr>\n",
       "    <tr>\n",
       "      <th>69997</th>\n",
       "      <td>99996</td>\n",
       "      <td>19066</td>\n",
       "      <td>men</td>\n",
       "      <td>183</td>\n",
       "      <td>105.0</td>\n",
       "      <td>180</td>\n",
       "      <td>90</td>\n",
       "      <td>3</td>\n",
       "      <td>1</td>\n",
       "      <td>0</td>\n",
       "      <td>1</td>\n",
       "      <td>0</td>\n",
       "      <td>1</td>\n",
       "      <td>52</td>\n",
       "    </tr>\n",
       "    <tr>\n",
       "      <th>69998</th>\n",
       "      <td>99998</td>\n",
       "      <td>22431</td>\n",
       "      <td>Women</td>\n",
       "      <td>163</td>\n",
       "      <td>72.0</td>\n",
       "      <td>135</td>\n",
       "      <td>80</td>\n",
       "      <td>1</td>\n",
       "      <td>2</td>\n",
       "      <td>0</td>\n",
       "      <td>0</td>\n",
       "      <td>0</td>\n",
       "      <td>1</td>\n",
       "      <td>61</td>\n",
       "    </tr>\n",
       "    <tr>\n",
       "      <th>69999</th>\n",
       "      <td>99999</td>\n",
       "      <td>20540</td>\n",
       "      <td>Women</td>\n",
       "      <td>170</td>\n",
       "      <td>72.0</td>\n",
       "      <td>120</td>\n",
       "      <td>80</td>\n",
       "      <td>2</td>\n",
       "      <td>1</td>\n",
       "      <td>0</td>\n",
       "      <td>0</td>\n",
       "      <td>1</td>\n",
       "      <td>0</td>\n",
       "      <td>56</td>\n",
       "    </tr>\n",
       "  </tbody>\n",
       "</table>\n",
       "<p>70000 rows × 14 columns</p>\n",
       "</div>"
      ],
      "text/plain": [
       "          id    age gender  height  weight  ap_hi  ap_lo  cholesterol  gluc  \\\n",
       "0          0  18393    men     168    62.0    110     80            1     1   \n",
       "1          1  20228  Women     156    85.0    140     90            3     1   \n",
       "2          2  18857  Women     165    64.0    130     70            3     1   \n",
       "3          3  17623    men     169    82.0    150    100            1     1   \n",
       "4          4  17474  Women     156    56.0    100     60            1     1   \n",
       "...      ...    ...    ...     ...     ...    ...    ...          ...   ...   \n",
       "69995  99993  19240    men     168    76.0    120     80            1     1   \n",
       "69996  99995  22601  Women     158   126.0    140     90            2     2   \n",
       "69997  99996  19066    men     183   105.0    180     90            3     1   \n",
       "69998  99998  22431  Women     163    72.0    135     80            1     2   \n",
       "69999  99999  20540  Women     170    72.0    120     80            2     1   \n",
       "\n",
       "       smoke  alco  active  cardio  age_years  \n",
       "0          0     0       1       0         50  \n",
       "1          0     0       1       1         55  \n",
       "2          0     0       0       1         52  \n",
       "3          0     0       1       1         48  \n",
       "4          0     0       0       0         48  \n",
       "...      ...   ...     ...     ...        ...  \n",
       "69995      1     0       1       0         53  \n",
       "69996      0     0       1       1         62  \n",
       "69997      0     1       0       1         52  \n",
       "69998      0     0       0       1         61  \n",
       "69999      0     0       1       0         56  \n",
       "\n",
       "[70000 rows x 14 columns]"
      ]
     },
     "execution_count": 14,
     "metadata": {},
     "output_type": "execute_result"
    }
   ],
   "source": [
    "df[\"age_years\"] = (df[\"age\"] / 365.25).round().astype(\"int\")\n",
    "df"
   ]
  },
  {
   "cell_type": "code",
   "execution_count": 15,
   "metadata": {
    "execution": {
     "iopub.execute_input": "2022-04-12T00:31:06.882682Z",
     "iopub.status.busy": "2022-04-12T00:31:06.881713Z",
     "iopub.status.idle": "2022-04-12T00:31:06.913575Z",
     "shell.execute_reply": "2022-04-12T00:31:06.914141Z",
     "shell.execute_reply.started": "2022-04-12T00:23:47.555065Z"
    },
    "papermill": {
     "duration": 0.084526,
     "end_time": "2022-04-12T00:31:06.914309",
     "exception": false,
     "start_time": "2022-04-12T00:31:06.829783",
     "status": "completed"
    },
    "tags": []
   },
   "outputs": [
    {
     "data": {
      "text/html": [
       "<div>\n",
       "<style scoped>\n",
       "    .dataframe tbody tr th:only-of-type {\n",
       "        vertical-align: middle;\n",
       "    }\n",
       "\n",
       "    .dataframe tbody tr th {\n",
       "        vertical-align: top;\n",
       "    }\n",
       "\n",
       "    .dataframe thead th {\n",
       "        text-align: right;\n",
       "    }\n",
       "</style>\n",
       "<table border=\"1\" class=\"dataframe\">\n",
       "  <thead>\n",
       "    <tr style=\"text-align: right;\">\n",
       "      <th></th>\n",
       "      <th>id</th>\n",
       "      <th>age</th>\n",
       "      <th>gender</th>\n",
       "      <th>height</th>\n",
       "      <th>weight</th>\n",
       "      <th>ap_hi</th>\n",
       "      <th>ap_lo</th>\n",
       "      <th>cholesterol</th>\n",
       "      <th>gluc</th>\n",
       "      <th>smoke</th>\n",
       "      <th>alco</th>\n",
       "      <th>active</th>\n",
       "      <th>cardio</th>\n",
       "      <th>age_years</th>\n",
       "    </tr>\n",
       "  </thead>\n",
       "  <tbody>\n",
       "  </tbody>\n",
       "</table>\n",
       "</div>"
      ],
      "text/plain": [
       "Empty DataFrame\n",
       "Columns: [id, age, gender, height, weight, ap_hi, ap_lo, cholesterol, gluc, smoke, alco, active, cardio, age_years]\n",
       "Index: []"
      ]
     },
     "execution_count": 15,
     "metadata": {},
     "output_type": "execute_result"
    }
   ],
   "source": [
    "df[\"age_years\"] = (df[\"age\"] / 365.25).round().astype(\"int\")\n",
    "smoking = df[(df['gender'] == 2) & (df['age_years'] >= 60)\n",
    "                    & (df['age_years'] < 65) & (df['smoke'] == 1)]\n",
    "smoking"
   ]
  },
  {
   "cell_type": "code",
   "execution_count": 16,
   "metadata": {
    "execution": {
     "iopub.execute_input": "2022-04-12T00:31:07.016940Z",
     "iopub.status.busy": "2022-04-12T00:31:07.015952Z",
     "iopub.status.idle": "2022-04-12T00:31:07.023242Z",
     "shell.execute_reply": "2022-04-12T00:31:07.023850Z",
     "shell.execute_reply.started": "2022-04-12T00:24:05.337211Z"
    },
    "papermill": {
     "duration": 0.060447,
     "end_time": "2022-04-12T00:31:07.024022",
     "exception": false,
     "start_time": "2022-04-12T00:31:06.963575",
     "status": "completed"
    },
    "tags": []
   },
   "outputs": [
    {
     "data": {
      "text/plain": [
       "nan"
      ]
     },
     "execution_count": 16,
     "metadata": {},
     "output_type": "execute_result"
    }
   ],
   "source": [
    "smoking[\n",
    "    (smoking[\"cholesterol\"] == 1) & (smoking[\"ap_hi\"] < 120) \n",
    "][\"cardio\"].mean()"
   ]
  },
  {
   "cell_type": "code",
   "execution_count": 17,
   "metadata": {
    "execution": {
     "iopub.execute_input": "2022-04-12T00:31:07.128727Z",
     "iopub.status.busy": "2022-04-12T00:31:07.128004Z",
     "iopub.status.idle": "2022-04-12T00:31:07.135447Z",
     "shell.execute_reply": "2022-04-12T00:31:07.135982Z",
     "shell.execute_reply.started": "2022-04-12T00:24:08.529251Z"
    },
    "papermill": {
     "duration": 0.061662,
     "end_time": "2022-04-12T00:31:07.136148",
     "exception": false,
     "start_time": "2022-04-12T00:31:07.074486",
     "status": "completed"
    },
    "tags": []
   },
   "outputs": [
    {
     "data": {
      "text/plain": [
       "nan"
      ]
     },
     "execution_count": 17,
     "metadata": {},
     "output_type": "execute_result"
    }
   ],
   "source": [
    "round(smoking[\n",
    "    (smoking[\"cholesterol\"] == 3)\n",
    "    & (smoking[\"ap_hi\"] >= 160)\n",
    "    & (smoking[\"ap_hi\"] < 180)\n",
    "     ][\"cardio\"].mean(),0)"
   ]
  },
  {
   "cell_type": "markdown",
   "metadata": {
    "_uuid": "54cef692e0af3745091c7177d63a2d6c36044474",
    "papermill": {
     "duration": 0.04989,
     "end_time": "2022-04-12T00:31:07.236122",
     "exception": false,
     "start_time": "2022-04-12T00:31:07.186232",
     "status": "completed"
    },
    "tags": []
   },
   "source": [
    "## 1.3. Analyzing BMI\n",
    "### Task:"
   ]
  },
  {
   "cell_type": "markdown",
   "metadata": {
    "_uuid": "c52b4b1c20956e3cc420bb13e7bb12d80aa3ef1a",
    "papermill": {
     "duration": 0.050186,
     "end_time": "2022-04-12T00:31:07.336620",
     "exception": false,
     "start_time": "2022-04-12T00:31:07.286434",
     "status": "completed"
    },
    "tags": []
   },
   "source": [
    "Create a new feature – BMI ([Body Mass Index](https://en.wikipedia.org/wiki/Body_mass_index)). To do this, divide weight in kilogramms by the square of the height in meters. Normal BMI values are said to be from 18.5 to 25. "
   ]
  },
  {
   "cell_type": "code",
   "execution_count": 18,
   "metadata": {
    "_uuid": "5b3134f2597650ae95d0196393b30797518f0498",
    "execution": {
     "iopub.execute_input": "2022-04-12T00:31:07.443479Z",
     "iopub.status.busy": "2022-04-12T00:31:07.442824Z",
     "iopub.status.idle": "2022-04-12T00:31:07.459784Z",
     "shell.execute_reply": "2022-04-12T00:31:07.460308Z",
     "shell.execute_reply.started": "2022-04-12T00:29:21.498733Z"
    },
    "papermill": {
     "duration": 0.073155,
     "end_time": "2022-04-12T00:31:07.460478",
     "exception": false,
     "start_time": "2022-04-12T00:31:07.387323",
     "status": "completed"
    },
    "tags": []
   },
   "outputs": [
    {
     "data": {
      "text/plain": [
       "gender\n",
       "Women    27.987583\n",
       "men      26.754442\n",
       "Name: BMI, dtype: float64"
      ]
     },
     "execution_count": 18,
     "metadata": {},
     "output_type": "execute_result"
    }
   ],
   "source": [
    "df['BMI'] = df['weight'] / (df['height'] / 100)**2\n",
    "df.groupby(['gender'])['BMI'].mean()"
   ]
  },
  {
   "cell_type": "markdown",
   "metadata": {
    "_uuid": "1c2baed24cc5b3abb94b5c6c09d571f29b39213b",
    "papermill": {
     "duration": 0.052313,
     "end_time": "2022-04-12T00:31:07.563439",
     "exception": false,
     "start_time": "2022-04-12T00:31:07.511126",
     "status": "completed"
    },
    "tags": []
   },
   "source": [
    "\n",
    "1. The BMI for women is on average higher than for men.\n",
    "2. For healthy, non-drinking men, BMI is closer to the norm than for healthy, non-drinking women"
   ]
  },
  {
   "cell_type": "markdown",
   "metadata": {
    "_uuid": "2e059032eee1d57c896e24a98b659a5ab16144fd",
    "papermill": {
     "duration": 0.050256,
     "end_time": "2022-04-12T00:31:07.664163",
     "exception": false,
     "start_time": "2022-04-12T00:31:07.613907",
     "status": "completed"
    },
    "tags": []
   },
   "source": [
    "## 1.4. Cleaning data"
   ]
  },
  {
   "cell_type": "markdown",
   "metadata": {
    "_uuid": "26ccfbcb212c3631b4941a294906c027b974301a",
    "papermill": {
     "duration": 0.050173,
     "end_time": "2022-04-12T00:31:07.765225",
     "exception": false,
     "start_time": "2022-04-12T00:31:07.715052",
     "status": "completed"
    },
    "tags": []
   },
   "source": [
    "### Task:\n",
    "We can see that the data is not perfect. It contains \"dirt\" and inaccuracies. We'll see this better as we visualize the data.\n",
    "\n",
    "Filter out the following patient segments (we consider these as erroneous data)\n",
    "\n",
    "- diastolic pressure is higher than systolic \n",
    "- height is strictly less than 2.5 percentile (Use `pd.Series.quantile` to compute this value. If you are not familiar with the function, please read the docs.)\n",
    "- height is strictly more than 97.5 percentile\n",
    "- weight is strictly less than 2.5 percentile\n",
    "- weight is strictly more than 97.5 percentile\n",
    "\n",
    "This is not everything that we can do to clean this data, but this is sufficient for now."
   ]
  },
  {
   "cell_type": "code",
   "execution_count": 19,
   "metadata": {
    "execution": {
     "iopub.execute_input": "2022-04-12T00:31:07.873451Z",
     "iopub.status.busy": "2022-04-12T00:31:07.868807Z",
     "iopub.status.idle": "2022-04-12T00:31:07.903248Z",
     "shell.execute_reply": "2022-04-12T00:31:07.902574Z",
     "shell.execute_reply.started": "2022-04-12T00:28:23.850309Z"
    },
    "papermill": {
     "duration": 0.087838,
     "end_time": "2022-04-12T00:31:07.903391",
     "exception": false,
     "start_time": "2022-04-12T00:31:07.815553",
     "status": "completed"
    },
    "tags": []
   },
   "outputs": [
    {
     "name": "stdout",
     "output_type": "stream",
     "text": [
      "10.0\n"
     ]
    }
   ],
   "source": [
    "\n",
    "remove = df[ \n",
    "    (df['ap_lo'] > df['ap_hi'])\n",
    "    |(df['height'] < df['height'].quantile(0.025))\n",
    "    |(df['height'] > df['height'].quantile(0.975))\n",
    "    |(df['weight'] < df['weight'].quantile(0.025))\n",
    "    |(df['weight'] > df['weight'].quantile(0.975))\n",
    "]\n",
    "clean_df = df[~df.index.isin(remove)]\n",
    "print(round((remove.shape[0] / df.shape[0]) * 100,0))\n",
    "    "
   ]
  },
  {
   "cell_type": "markdown",
   "metadata": {
    "_uuid": "f807adaa6459d1c75d202bb973831369d6eeb20e",
    "papermill": {
     "duration": 0.051615,
     "end_time": "2022-04-12T00:31:08.006110",
     "exception": false,
     "start_time": "2022-04-12T00:31:07.954495",
     "status": "completed"
    },
    "tags": []
   },
   "source": [
    "**.) The percent of the original data (rounded)  we removed is 10%**\n"
   ]
  },
  {
   "cell_type": "markdown",
   "metadata": {
    "_uuid": "a9f14b459f71ac2304e73145fc199a90131965e7",
    "papermill": {
     "duration": 0.051009,
     "end_time": "2022-04-12T00:31:08.108176",
     "exception": false,
     "start_time": "2022-04-12T00:31:08.057167",
     "status": "completed"
    },
    "tags": []
   },
   "source": [
    "# Part 2. Visual data analysis\n",
    "\n",
    "## 2.1. Correlation matrix visualization\n",
    "\n",
    "To understand the features better, you can create a matrix of the correlation coefficients between the features. Use the initial dataset (non-filtered).\n",
    "\n",
    "### Task:\n",
    "\n",
    "Plot a correlation matrix using [`heatmap()`](http://seaborn.pydata.org/generated/seaborn.heatmap.html)."
   ]
  },
  {
   "cell_type": "code",
   "execution_count": 20,
   "metadata": {
    "_uuid": "a9c19a7bf2dd564b484e8269886340c13967fede",
    "execution": {
     "iopub.execute_input": "2022-04-12T00:31:08.216585Z",
     "iopub.status.busy": "2022-04-12T00:31:08.212755Z",
     "iopub.status.idle": "2022-04-12T00:31:09.530029Z",
     "shell.execute_reply": "2022-04-12T00:31:09.530523Z",
     "shell.execute_reply.started": "2022-04-12T00:28:17.485478Z"
    },
    "papermill": {
     "duration": 1.371433,
     "end_time": "2022-04-12T00:31:09.530719",
     "exception": false,
     "start_time": "2022-04-12T00:31:08.159286",
     "status": "completed"
    },
    "tags": []
   },
   "outputs": [
    {
     "data": {
      "image/png": "[encoded data removed]",
      "text/plain": [
       "<Figure size 864x648 with 2 Axes>"
      ]
     },
     "metadata": {
      "needs_background": "light"
     },
     "output_type": "display_data"
    }
   ],
   "source": [
    "\n",
    "corr = clean_df.corr(method=\"pearson\")\n",
    "\n",
    "f, ax = plt.subplots(figsize=(12, 9))\n",
    "\n",
    "sns.heatmap(\n",
    "    corr,vmax=1, center=0, annot=True, fmt=\".1f\",square=True, linewidths=0.5,cbar_kws={\"shrink\": 0.5},);\n"
   ]
  },
  {
   "cell_type": "markdown",
   "metadata": {
    "_uuid": "987ff630db004c51cc9e89e0c6cf6d14d619c4c0",
    "papermill": {
     "duration": 0.054587,
     "end_time": "2022-04-12T00:31:09.642745",
     "exception": false,
     "start_time": "2022-04-12T00:31:09.588158",
     "status": "completed"
    },
    "tags": []
   },
   "source": [
    "**. Question) Which pair of features has the strongest Pearson's correlation with the *gender* feature?.**\n",
    "\n",
    "1. Height, Smoke\n"
   ]
  },
  {
   "cell_type": "markdown",
   "metadata": {
    "papermill": {
     "duration": 0.056713,
     "end_time": "2022-04-12T00:31:09.758247",
     "exception": false,
     "start_time": "2022-04-12T00:31:09.701534",
     "status": "completed"
    },
    "tags": []
   },
   "source": [
    "## 2.2. Rank correlation\n",
    "\n",
    "In most cases, *the Pearson coefficient of linear correlation* is more than enough to discover patterns in data. \n",
    "But let's go a little further and calculate a [rank correlation](https://en.wikipedia.org/wiki/Rank_correlation). It will help us to identify such feature pairs in which the lower rank in the variational series of one feature always precedes the higher rank in the another one (and we have the opposite in the case of negative correlation).\n",
    "\n",
    "### Task:\n",
    "\n",
    "Calculate and plot a correlation matrix using the [Spearman's rank correlation coefficient](https://en.wikipedia.org/wiki/Spearman%27s_rank_correlation_coefficient).\n"
   ]
  },
  {
   "cell_type": "code",
   "execution_count": 21,
   "metadata": {
    "execution": {
     "iopub.execute_input": "2022-04-12T00:31:09.875993Z",
     "iopub.status.busy": "2022-04-12T00:31:09.875335Z",
     "iopub.status.idle": "2022-04-12T00:31:11.171000Z",
     "shell.execute_reply": "2022-04-12T00:31:11.171522Z",
     "shell.execute_reply.started": "2022-04-12T00:29:06.625710Z"
    },
    "papermill": {
     "duration": 1.358238,
     "end_time": "2022-04-12T00:31:11.171738",
     "exception": false,
     "start_time": "2022-04-12T00:31:09.813500",
     "status": "completed"
    },
    "tags": []
   },
   "outputs": [
    {
     "data": {
      "image/png": "[encoded data removed]",
      "text/plain": [
       "<Figure size 841.525x720 with 1 Axes>"
      ]
     },
     "metadata": {
      "needs_background": "light"
     },
     "output_type": "display_data"
    }
   ],
   "source": [
    "sns.FacetGrid(df, hue=\"gender\", size=10).map(sns.kdeplot, \"height\").add_legend();"
   ]
  },
  {
   "cell_type": "markdown",
   "metadata": {
    "_uuid": "25b4b303156fd6f9178c9b23fba4ff3f220a5977",
    "papermill": {
     "duration": 0.057415,
     "end_time": "2022-04-12T00:31:11.287342",
     "exception": false,
     "start_time": "2022-04-12T00:31:11.229927",
     "status": "completed"
    },
    "tags": []
   },
   "source": [
    "## 2.4. Age\n",
    "\n"
   ]
  },
  {
   "cell_type": "markdown",
   "metadata": {
    "_uuid": "d48bb97cba3968e7f73c790226278f6fa818871b",
    "papermill": {
     "duration": 0.056344,
     "end_time": "2022-04-12T00:31:11.404542",
     "exception": false,
     "start_time": "2022-04-12T00:31:11.348198",
     "status": "completed"
    },
    "tags": []
   },
   "source": [
    "### Task:\n",
    "\n",
    "Create a *count plot* using [`countplot()`](http://seaborn.pydata.org/generated/seaborn.countplot.html) with the age on the *X* axis and the number of people on the *Y* axis. Your resulting plot should have two columns for each age, corresponding to the number of people for each *cardio* class of that age."
   ]
  },
  {
   "cell_type": "code",
   "execution_count": 22,
   "metadata": {
    "_uuid": "fd07f3aab9891fd86228d5880a7a38cc88b282ba",
    "execution": {
     "iopub.execute_input": "2022-04-12T00:31:11.525227Z",
     "iopub.status.busy": "2022-04-12T00:31:11.524246Z",
     "iopub.status.idle": "2022-04-12T00:31:12.119850Z",
     "shell.execute_reply": "2022-04-12T00:31:12.120372Z",
     "shell.execute_reply.started": "2022-04-12T00:28:00.885118Z"
    },
    "papermill": {
     "duration": 0.659479,
     "end_time": "2022-04-12T00:31:12.120543",
     "exception": false,
     "start_time": "2022-04-12T00:31:11.461064",
     "status": "completed"
    },
    "tags": []
   },
   "outputs": [
    {
     "data": {
      "image/png": "[encoded data removed]",
      "text/plain": [
       "<Figure size 864x720 with 1 Axes>"
      ]
     },
     "metadata": {
      "needs_background": "light"
     },
     "output_type": "display_data"
    }
   ],
   "source": [
    "# You code here\n",
    "plt.figure(figsize=(12, 10))\n",
    "ax = sns.countplot(x= 'age_years', hue = 'cardio', data = df, )\n"
   ]
  },
  {
   "cell_type": "markdown",
   "metadata": {
    "_uuid": "49557c7bd46d729c27aa8190df65cc25e45e7528",
    "papermill": {
     "duration": 0.057066,
     "end_time": "2022-04-12T00:31:12.235271",
     "exception": false,
     "start_time": "2022-04-12T00:31:12.178205",
     "status": "completed"
    },
    "tags": []
   },
   "source": [
    "**Question) What is the smallest age at which the number of people with CVD outnumber the number of people without CVD?.**\n",
    "\n",
    "\n",
    "1. 55\n"
   ]
  }
 ],
 "metadata": {
  "kernelspec": {
   "display_name": "Python 3",
   "language": "python",
   "name": "python3"
  },
  "language_info": {
   "codemirror_mode": {
    "name": "ipython",
    "version": 3
   },
   "file_extension": ".py",
   "mimetype": "text/x-python",
   "name": "python",
   "nbconvert_exporter": "python",
   "pygments_lexer": "ipython3",
   "version": "3.7.12"
  },
  "papermill": {
   "default_parameters": {},
   "duration": 22.571452,
   "end_time": "2022-04-12T00:31:13.003427",
   "environment_variables": {},
   "exception": null,
   "input_path": "__notebook__.ipynb",
   "output_path": "__notebook__.ipynb",
   "parameters": {},
   "start_time": "2022-04-12T00:30:50.431975",
   "version": "2.3.3"
  }
 },
 "nbformat": 4,
 "nbformat_minor": 5
}
